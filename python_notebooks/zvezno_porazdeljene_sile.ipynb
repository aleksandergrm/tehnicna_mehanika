{
 "cells": [
  {
   "cell_type": "code",
   "execution_count": 1,
   "metadata": {},
   "outputs": [],
   "source": [
    "import math as mat\n",
    "import numpy as np\n",
    "import sympy as sp\n",
    "import matplotlib.pyplot as mpl\n",
    "import IPython.display as disp\n",
    "\n",
    "# MatPlotLib set fonts\n",
    "mpl.rcParams['font.family'] = 'serif'\n",
    "mpl.rcParams['font.serif'] = ['DejaVu Serif']\n",
    "\n",
    "# MatPlotLib set LaTeX use\n",
    "mpl.rcParams['text.usetex'] = True\n",
    "mpl.rcParams['text.latex.preamble'] = r'\\usepackage{siunitx}'\n",
    "\n",
    "# SymPY pretty print\n",
    "sp.init_printing(use_latex='mathjax')"
   ]
  },
  {
   "cell_type": "markdown",
   "metadata": {},
   "source": [
    "# Strižne sile in upogibni momenti za porazdelitev sil\n",
    "\n",
    "Imamo tri vrste porazdelitev linijske zunanje obremenitve $q(x)$\n",
    "\n",
    "1. **konstantno**: $q(x) = q_0$\n",
    "2. **linearno**: $q(x) = q_0 + q_1 x$\n",
    "3. **kvadratično**: $q(x) = q_0 + q_1 x + q_2 x$\n",
    "4. **sinusna**: $q(x) = q_0 + q_1 \\sin(x)$\n",
    "\n",
    "Strižna sila je potem enak\n",
    "\n",
    "$$\n",
    "V(x) = \\int q(x) dx + c_1\n",
    "$$\n",
    "\n",
    "Upogibni moment ni pa nič drugega kot pa integral strižne sile $V(x)$\n",
    "\n",
    "$$\n",
    "M(x) = \\int V(x) dx + c_2\n",
    "$$\n",
    "\n",
    "Da bi določili konstanti $c_1$ in $c_2$ moramo določiti vrednosti za strižno silo in upogibni moment na robu, kjer vrednosti za $V(x)$ in $M(x)$ dejansko poznamo. \n",
    "\n",
    "Recimo primer prostega konca pri $x=L$ imamo $V(L)=0$ in $M(L)=0$."
   ]
  },
  {
   "cell_type": "code",
   "execution_count": 2,
   "metadata": {},
   "outputs": [],
   "source": [
    "# SymPY variale definitions\n",
    "q0,q1,q2 = sp.symbols('q0 q1 q2')\n",
    "c1,c2 = sp.symbols('c1 c2')\n",
    "x = sp.symbols('x')\n",
    "\n",
    "# Line source/force distributions\n",
    "f0 = q0\n",
    "f1 = q0 + q1 * x\n",
    "f2 = q0 + q1 * x + q2 * x**2\n",
    "fsin = q0 + q1 * sp.sin(x)"
   ]
  },
  {
   "cell_type": "markdown",
   "metadata": {},
   "source": [
    "## Primer 1: $q(x) = q_0$"
   ]
  },
  {
   "cell_type": "code",
   "execution_count": 3,
   "metadata": {},
   "outputs": [
    {
     "data": {
      "text/latex": [
       "$\\displaystyle c_{1} + q_{0} x$"
      ],
      "text/plain": [
       "c₁ + q₀⋅x"
      ]
     },
     "metadata": {},
     "output_type": "display_data"
    },
    {
     "data": {
      "text/latex": [
       "$\\displaystyle c_{1} x + c_{2} + \\frac{q_{0} x^{2}}{2}$"
      ],
      "text/plain": [
       "                2\n",
       "            q₀⋅x \n",
       "c₁⋅x + c₂ + ─────\n",
       "              2  "
      ]
     },
     "metadata": {},
     "output_type": "display_data"
    }
   ],
   "source": [
    "V = sp.integrate(f0,x) + c1\n",
    "M = sp.integrate(V,x) + c2\n",
    "\n",
    "disp.display(V)\n",
    "disp.display(M)"
   ]
  },
  {
   "cell_type": "code",
   "execution_count": 4,
   "metadata": {},
   "outputs": [
    {
     "name": "stdout",
     "output_type": "stream",
     "text": [
      "c1 = -1\n",
      "c2 = 1/2\n"
     ]
    }
   ],
   "source": [
    "q0v = 1; q1v = 1; q2v = 1\n",
    "L = 1\n",
    "\n",
    "# Strižna sila V(x) je na robu x=L je enaka 0\n",
    "Vr = 0\n",
    "c1s = sp.solve(V.subs(q0,q0v).subs(x,L) - Vr,c1)\n",
    "c1v = c1s[0]\n",
    "print('c1 =', c1v)\n",
    "\n",
    "# Upogibni moment M(x) je na robu x=L je enak 0\n",
    "Mr = 0\n",
    "c2s = sp.solve(M.subs(q0,q0v).subs(c1,c1v).subs(x,L) - Mr,c2)\n",
    "c2v = c2s[0]\n",
    "print('c2 =', c2v)"
   ]
  },
  {
   "cell_type": "code",
   "execution_count": 5,
   "metadata": {},
   "outputs": [
    {
     "data": {
      "image/png": "[encoded data removed]",
      "text/plain": [
       "<Figure size 432x288 with 3 Axes>"
      ]
     },
     "metadata": {
      "needs_background": "light"
     },
     "output_type": "display_data"
    }
   ],
   "source": [
    "fq = sp.lambdify(x, f0.subs(q0,q0v))\n",
    "fV = sp.lambdify(x, V.subs(q0,q0v).subs(c1,c1v))\n",
    "fM = sp.lambdify(x, M.subs(q0,q0v).subs(c1,c1v).subs(c2,c2v))\n",
    "\n",
    "xp = np.linspace(0,L,100)\n",
    "qp = np.zeros(100)\n",
    "for i in range(100):\n",
    "    qp[i] = fq(xp[i])\n",
    "\n",
    "fig, ax = mpl.subplots(3)\n",
    "\n",
    "ax[0].plot(xp,qp,'b')\n",
    "ax[1].plot(xp,fV(xp),'g')\n",
    "ax[2].plot(xp,fM(xp),'r')\n",
    "\n",
    "ax[0].set_xticklabels([])\n",
    "ax[0].set_ylabel(r'$q(x)$')\n",
    "ax[0].grid()\n",
    "\n",
    "ax[1].set_xticklabels([])\n",
    "ax[1].set_ylabel(r'$V(x)$')\n",
    "ax[1].grid()\n",
    "\n",
    "ax[2].set_xlabel(r'$x$')\n",
    "ax[2].set_ylabel(r'$M(x)$')\n",
    "ax[2].grid()\n",
    "\n",
    "fig.savefig('VM_f0.pdf')"
   ]
  },
  {
   "cell_type": "markdown",
   "metadata": {},
   "source": [
    "## Primer 2: $q(x) = q_0 + q_1 x$"
   ]
  },
  {
   "cell_type": "code",
   "execution_count": 6,
   "metadata": {},
   "outputs": [
    {
     "data": {
      "text/latex": [
       "$\\displaystyle c_{1} + q_{0} x + \\frac{q_{1} x^{2}}{2}$"
      ],
      "text/plain": [
       "                2\n",
       "            q₁⋅x \n",
       "c₁ + q₀⋅x + ─────\n",
       "              2  "
      ]
     },
     "metadata": {},
     "output_type": "display_data"
    },
    {
     "data": {
      "text/latex": [
       "$\\displaystyle c_{1} x + c_{2} + \\frac{q_{0} x^{2}}{2} + \\frac{q_{1} x^{3}}{6}$"
      ],
      "text/plain": [
       "                2       3\n",
       "            q₀⋅x    q₁⋅x \n",
       "c₁⋅x + c₂ + ───── + ─────\n",
       "              2       6  "
      ]
     },
     "metadata": {},
     "output_type": "display_data"
    }
   ],
   "source": [
    "V = sp.integrate(f1,x) + c1\n",
    "M = sp.integrate(V,x) + c2\n",
    "\n",
    "disp.display(V)\n",
    "disp.display(M)"
   ]
  },
  {
   "cell_type": "code",
   "execution_count": 7,
   "metadata": {},
   "outputs": [
    {
     "name": "stdout",
     "output_type": "stream",
     "text": [
      "c1 = -3/2\n",
      "c2 = 5/6\n"
     ]
    }
   ],
   "source": [
    "q0v = 1; q1v = 1; q2v = 1\n",
    "L = 1\n",
    "\n",
    "# Strižna sila V(x) je na robu x=L je enaka 0\n",
    "Vr = 0\n",
    "c1s = sp.solve(V.subs(q0,q0v).subs(q1,q1v).subs(x,L) - Vr,c1)\n",
    "c1v = c1s[0]\n",
    "print('c1 =', c1v)\n",
    "\n",
    "# Upogibni moment M(x) je na robu x=L je enak 0\n",
    "Mr = 0\n",
    "c2s = sp.solve(M.subs(q0,q0v).subs(q1,q1v).subs(c1,c1v).subs(x,L) - Mr,c2)\n",
    "c2v = c2s[0]\n",
    "print('c2 =', c2v)"
   ]
  },
  {
   "cell_type": "code",
   "execution_count": 8,
   "metadata": {},
   "outputs": [
    {
     "data": {
      "image/png": "[encoded data removed]",
      "text/plain": [
       "<Figure size 432x288 with 3 Axes>"
      ]
     },
     "metadata": {
      "needs_background": "light"
     },
     "output_type": "display_data"
    }
   ],
   "source": [
    "fq = sp.lambdify(x, f1.subs(q0,q0v).subs(q1,q1v))\n",
    "fV = sp.lambdify(x, V.subs(q0,q0v).subs(q1,q1v).subs(c1,c1v))\n",
    "fM = sp.lambdify(x, M.subs(q0,q0v).subs(q1,q1v).subs(c1,c1v).subs(c2,c2v))\n",
    "\n",
    "xp = np.linspace(0,L,100)\n",
    "qp = np.zeros(100)\n",
    "for i in range(100):\n",
    "    qp[i] = fq(xp[i])\n",
    "\n",
    "fig, ax = mpl.subplots(3)\n",
    "\n",
    "ax[0].plot(xp,qp,'b')\n",
    "ax[1].plot(xp,fV(xp),'g')\n",
    "ax[2].plot(xp,fM(xp),'r')\n",
    "\n",
    "ax[0].set_xticklabels([])\n",
    "ax[0].set_ylabel(r'$q(x)$')\n",
    "ax[0].grid()\n",
    "\n",
    "ax[1].set_xticklabels([])\n",
    "ax[1].set_ylabel(r'$V(x)$')\n",
    "ax[1].grid()\n",
    "\n",
    "ax[2].set_xlabel(r'$x$')\n",
    "ax[2].set_ylabel(r'$M(x)$')\n",
    "ax[2].grid()\n",
    "\n",
    "fig.savefig('VM_f1.pdf')"
   ]
  },
  {
   "cell_type": "markdown",
   "metadata": {},
   "source": [
    "## Primer 3: $q(x) = q_0 + q_1 x + q_2 x^2$"
   ]
  },
  {
   "cell_type": "code",
   "execution_count": 9,
   "metadata": {},
   "outputs": [
    {
     "data": {
      "text/latex": [
       "$\\displaystyle c_{1} + q_{0} x + \\frac{q_{1} x^{2}}{2} + \\frac{q_{2} x^{3}}{3}$"
      ],
      "text/plain": [
       "                2       3\n",
       "            q₁⋅x    q₂⋅x \n",
       "c₁ + q₀⋅x + ───── + ─────\n",
       "              2       3  "
      ]
     },
     "metadata": {},
     "output_type": "display_data"
    },
    {
     "data": {
      "text/latex": [
       "$\\displaystyle c_{1} x + c_{2} + \\frac{q_{0} x^{2}}{2} + \\frac{q_{1} x^{3}}{6} + \\frac{q_{2} x^{4}}{12}$"
      ],
      "text/plain": [
       "                2       3       4\n",
       "            q₀⋅x    q₁⋅x    q₂⋅x \n",
       "c₁⋅x + c₂ + ───── + ───── + ─────\n",
       "              2       6       12 "
      ]
     },
     "metadata": {},
     "output_type": "display_data"
    }
   ],
   "source": [
    "V = sp.integrate(f2,x) + c1\n",
    "M = sp.integrate(V,x) + c2\n",
    "\n",
    "disp.display(V)\n",
    "disp.display(M)"
   ]
  },
  {
   "cell_type": "code",
   "execution_count": 10,
   "metadata": {},
   "outputs": [
    {
     "name": "stdout",
     "output_type": "stream",
     "text": [
      "c1 = -11/6\n",
      "c2 = 13/12\n"
     ]
    }
   ],
   "source": [
    "q0v = 1; q1v = 1; q2v = 1\n",
    "L = 1\n",
    "\n",
    "# Strižna sila V(x) je na robu x=L je enaka 0\n",
    "Vr = 0\n",
    "c1s = sp.solve(V.subs(q0,q0v).subs(q1,q1v).subs(q2,q2v).subs(x,L) - Vr,c1)\n",
    "c1v = c1s[0]\n",
    "print('c1 =', c1v)\n",
    "\n",
    "# Upogibni moment M(x) je na robu x=L je enak 0\n",
    "Mr = 0\n",
    "c2s = sp.solve(M.subs(q0,q0v).subs(q1,q1v).subs(q2,q2v).subs(c1,c1v).subs(x,L) - Mr,c2)\n",
    "c2v = c2s[0]\n",
    "print('c2 =', c2v)"
   ]
  },
  {
   "cell_type": "code",
   "execution_count": 11,
   "metadata": {},
   "outputs": [
    {
     "data": {
      "image/png": "[encoded data removed]",
      "text/plain": [
       "<Figure size 432x288 with 3 Axes>"
      ]
     },
     "metadata": {
      "needs_background": "light"
     },
     "output_type": "display_data"
    }
   ],
   "source": [
    "fq = sp.lambdify(x, f2.subs(q0,q0v).subs(q1,q1v).subs(q2,q2v))\n",
    "fV = sp.lambdify(x, V.subs(q0,q0v).subs(q1,q1v).subs(q2,q2v).subs(c1,c1v))\n",
    "fM = sp.lambdify(x, M.subs(q0,q0v).subs(q1,q1v).subs(q2,q2v).subs(c1,c1v).subs(c2,c2v))\n",
    "\n",
    "xp = np.linspace(0,L,100)\n",
    "qp = np.zeros(100)\n",
    "for i in range(100):\n",
    "    qp[i] = fq(xp[i])\n",
    "\n",
    "fig, ax = mpl.subplots(3)\n",
    "\n",
    "ax[0].plot(xp,qp,'b')\n",
    "ax[1].plot(xp,fV(xp),'g')\n",
    "ax[2].plot(xp,fM(xp),'r')\n",
    "\n",
    "ax[0].set_xticklabels([])\n",
    "ax[0].set_ylabel(r'$q(x)$')\n",
    "ax[0].grid()\n",
    "\n",
    "ax[1].set_xticklabels([])\n",
    "ax[1].set_ylabel(r'$V(x)$')\n",
    "ax[1].grid()\n",
    "\n",
    "ax[2].set_xlabel(r'$x$')\n",
    "ax[2].set_ylabel(r'$M(x)$')\n",
    "ax[2].grid()\n",
    "\n",
    "fig.savefig('VM_f2.pdf')"
   ]
  },
  {
   "cell_type": "markdown",
   "metadata": {},
   "source": [
    "## Primer 4: $q(x) = q_0 + q_1 \\sin x$"
   ]
  },
  {
   "cell_type": "code",
   "execution_count": 12,
   "metadata": {},
   "outputs": [
    {
     "data": {
      "text/latex": [
       "$\\displaystyle c_{1} + q_{0} x - q_{1} \\cos{\\left(x \\right)}$"
      ],
      "text/plain": [
       "c₁ + q₀⋅x - q₁⋅cos(x)"
      ]
     },
     "metadata": {},
     "output_type": "display_data"
    },
    {
     "data": {
      "text/latex": [
       "$\\displaystyle c_{1} x + c_{2} + \\frac{q_{0} x^{2}}{2} - q_{1} \\sin{\\left(x \\right)}$"
      ],
      "text/plain": [
       "                2            \n",
       "            q₀⋅x             \n",
       "c₁⋅x + c₂ + ───── - q₁⋅sin(x)\n",
       "              2              "
      ]
     },
     "metadata": {},
     "output_type": "display_data"
    }
   ],
   "source": [
    "V = sp.integrate(fsin,x) + c1\n",
    "M = sp.integrate(V,x) + c2\n",
    "\n",
    "disp.display(V)\n",
    "disp.display(M)"
   ]
  },
  {
   "cell_type": "code",
   "execution_count": 13,
   "metadata": {},
   "outputs": [
    {
     "name": "stdout",
     "output_type": "stream",
     "text": [
      "c1 = -4.14159265358979\n",
      "c2 = 8.07639485413446\n"
     ]
    }
   ],
   "source": [
    "q0v = 1; q1v = 1; q2v = 1\n",
    "L = mat.pi\n",
    "\n",
    "# Strižna sila V(x) je na robu x=pi je enaka 0\n",
    "Vr = 0\n",
    "c1s = sp.solve(V.subs(q0,q0v).subs(q1,q1v).subs(x,L) - Vr,c1)\n",
    "c1v = c1s[0]\n",
    "print('c1 =', c1v)\n",
    "\n",
    "# Upogibni moment M(x) je na robu x=pi je enak 0\n",
    "Mr = 0\n",
    "c2s = sp.solve(M.subs(q0,q0v).subs(q1,q1v).subs(c1,c1v).subs(x,L) - Mr,c2)\n",
    "c2v = c2s[0]\n",
    "print('c2 =', c2v)"
   ]
  },
  {
   "cell_type": "code",
   "execution_count": 14,
   "metadata": {},
   "outputs": [
    {
     "data": {
      "image/png": "[encoded data removed]",
      "text/plain": [
       "<Figure size 432x288 with 3 Axes>"
      ]
     },
     "metadata": {
      "needs_background": "light"
     },
     "output_type": "display_data"
    }
   ],
   "source": [
    "fq = sp.lambdify(x, fsin.subs(q0,q0v).subs(q1,q1v))\n",
    "fV = sp.lambdify(x, V.subs(q0,q0v).subs(q1,q1v).subs(c1,c1v))\n",
    "fM = sp.lambdify(x, M.subs(q0,q0v).subs(q1,q1v).subs(c1,c1v).subs(c2,c2v))\n",
    "\n",
    "xp = np.linspace(0,L,100)\n",
    "qp = np.zeros(100)\n",
    "for i in range(100):\n",
    "    qp[i] = fq(xp[i])\n",
    "\n",
    "fig, ax = mpl.subplots(3)\n",
    "\n",
    "ax[0].plot(xp,qp,'b')\n",
    "ax[1].plot(xp,fV(xp),'g')\n",
    "ax[2].plot(xp,fM(xp),'r')\n",
    "\n",
    "ax[0].set_xticklabels([])\n",
    "ax[0].set_ylabel(r'$q(x)$')\n",
    "ax[0].grid()\n",
    "\n",
    "ax[1].set_xticklabels([])\n",
    "ax[1].set_ylabel(r'$V(x)$')\n",
    "ax[1].grid()\n",
    "\n",
    "ax[2].set_xlabel(r'$x$')\n",
    "ax[2].set_ylabel(r'$M(x)$')\n",
    "ax[2].grid()\n",
    "\n",
    "fig.savefig('VM_fsin.pdf')"
   ]
  },
  {
   "cell_type": "code",
   "execution_count": null,
   "metadata": {},
   "outputs": [],
   "source": []
  }
 ],
 "metadata": {
  "kernelspec": {
   "display_name": "MathLab",
   "language": "python",
   "name": "mathlab"
  },
  "language_info": {
   "codemirror_mode": {
    "name": "ipython",
    "version": 3
   },
   "file_extension": ".py",
   "mimetype": "text/x-python",
   "name": "python",
   "nbconvert_exporter": "python",
   "pygments_lexer": "ipython3",
   "version": "3.10.2"
  }
 },
 "nbformat": 4,
 "nbformat_minor": 4
}
